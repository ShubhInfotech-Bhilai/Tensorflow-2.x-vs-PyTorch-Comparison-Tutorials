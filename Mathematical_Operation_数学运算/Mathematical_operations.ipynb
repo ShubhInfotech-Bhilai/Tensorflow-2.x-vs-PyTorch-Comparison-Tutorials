{
 "cells": [
  {
   "cell_type": "markdown",
   "metadata": {},
   "source": [
    "### Initialization"
   ]
  },
  {
   "cell_type": "code",
   "execution_count": 1,
   "metadata": {},
   "outputs": [],
   "source": [
    "# For Colab only!\n",
    "\n",
    "try:\n",
    "  # %tensorflow_version only exists in Colab.\n",
    "  %tensorflow_version 2.x\n",
    "except Exception:\n",
    "  pass"
   ]
  },
  {
   "cell_type": "code",
   "execution_count": 2,
   "metadata": {
    "cell_style": "split"
   },
   "outputs": [],
   "source": [
    "import tensorflow as tf"
   ]
  },
  {
   "cell_type": "code",
   "execution_count": 3,
   "metadata": {
    "cell_style": "split"
   },
   "outputs": [],
   "source": [
    "import torch"
   ]
  },
  {
   "cell_type": "code",
   "execution_count": 4,
   "metadata": {
    "cell_style": "split"
   },
   "outputs": [
    {
     "name": "stdout",
     "output_type": "stream",
     "text": [
      "2.0.0\n",
      "False\n"
     ]
    }
   ],
   "source": [
    "print(tf.__version__)\n",
    "print(tf.test.is_gpu_available())"
   ]
  },
  {
   "cell_type": "code",
   "execution_count": 5,
   "metadata": {
    "cell_style": "split"
   },
   "outputs": [
    {
     "name": "stdout",
     "output_type": "stream",
     "text": [
      "1.4.0\n",
      "False\n"
     ]
    }
   ],
   "source": [
    "print(torch.__version__)\n",
    "print(torch.cuda.is_available())"
   ]
  },
  {
   "cell_type": "markdown",
   "metadata": {},
   "source": [
    "### Basic\n",
    "\n",
    "elementwise\n",
    "\n",
    "**\"  + - * /  \"**\n",
    "\n"
   ]
  },
  {
   "cell_type": "code",
   "execution_count": 17,
   "metadata": {
    "cell_style": "split"
   },
   "outputs": [
    {
     "name": "stdout",
     "output_type": "stream",
     "text": [
      "tf.Tensor(\n",
      "[[0.88811684 1.0461007  1.415938   0.3643744 ]\n",
      " [0.63458323 0.8540065  1.619497   0.7716217 ]\n",
      " [0.9911736  1.6366682  1.2705028  0.6875068 ]], shape=(3, 4), dtype=float32)\n",
      "(3, 4)\n",
      "tf.Tensor(\n",
      "[[ 0.7327397  -0.6465975  -0.2164098  -0.2110796 ]\n",
      " [ 0.4792061  -0.8386917  -0.01285088  0.1961677 ]\n",
      " [ 0.8357965  -0.05603004 -0.36184502  0.1120528 ]], shape=(3, 4), dtype=float32)\n",
      "(3, 4)\n",
      "tf.Tensor(\n",
      "[[0.06296102 0.1690596  0.48951182 0.02205353]\n",
      " [0.04326435 0.00648084 0.6556513  0.13922957]\n",
      " [0.07096735 0.6688859  0.3708114  0.11502744]], shape=(3, 4), dtype=float32)\n",
      "(3, 4)\n",
      "tf.Tensor(\n",
      "[[1.0431756e+01 2.3601562e-01 7.3484844e-01 2.6638931e-01]\n",
      " [7.1682954e+00 9.0475772e-03 9.8425472e-01 1.6817842e+00]\n",
      " [1.1758293e+01 9.3379796e-01 5.5665696e-01 1.3894414e+00]], shape=(3, 4), dtype=float32)\n",
      "(3, 4)\n"
     ]
    }
   ],
   "source": [
    "#  \"+ - * /\"\n",
    "#  add subtract multiply div\n",
    "a = tf.random.uniform([3,4])\n",
    "b = tf.random.uniform([4])\n",
    "\n",
    "print(a+b)\n",
    "print(tf.add(a,b).shape)\n",
    "\n",
    "print(a-b)\n",
    "print(tf.subtract(a,b).shape)\n",
    "\n",
    "print(a*b)\n",
    "print(tf.multiply(a,b).shape)\n",
    "\n",
    "print(a/b)\n",
    "print(tf.divide(a,b).shape)"
   ]
  },
  {
   "cell_type": "code",
   "execution_count": 19,
   "metadata": {
    "cell_style": "split"
   },
   "outputs": [
    {
     "name": "stdout",
     "output_type": "stream",
     "text": [
      "tensor([[0.9128, 0.7211, 0.5927, 1.0332],\n",
      "        [0.6215, 0.7827, 0.8588, 0.6937],\n",
      "        [1.2285, 1.1786, 0.5472, 0.7542]])\n",
      "torch.Size([3, 4])\n",
      "tensor([[-0.2044, -0.1169,  0.3485,  0.2551],\n",
      "        [-0.4957, -0.0553,  0.6146, -0.0844],\n",
      "        [ 0.1113,  0.3407,  0.3029, -0.0239]])\n",
      "torch.Size([3, 4])\n",
      "tensor([[0.1979, 0.1266, 0.0575, 0.2506],\n",
      "        [0.0351, 0.1524, 0.0899, 0.1185],\n",
      "        [0.3742, 0.3183, 0.0519, 0.1421]])\n",
      "torch.Size([3, 4])\n",
      "tensor([[0.6341, 0.7210, 3.8541, 1.6557],\n",
      "        [0.1126, 0.8679, 6.0330, 0.7831],\n",
      "        [1.1992, 1.8130, 3.4810, 0.9385]])\n",
      "torch.Size([3, 4])\n"
     ]
    }
   ],
   "source": [
    "#  \"+ - * /\"\n",
    "#  add sub mul div\n",
    "a = torch.rand(3,4)\n",
    "b = torch.rand(4)\n",
    "\n",
    "print(a+b)\n",
    "print(torch.add(a,b).shape)\n",
    "\n",
    "print(a-b)\n",
    "print(torch.sub(a,b).shape)\n",
    "\n",
    "print(a*b)\n",
    "print(torch.mul(a,b).shape)\n",
    "\n",
    "print(a/b)\n",
    "print(torch.div(a,b).shape)"
   ]
  },
  {
   "cell_type": "markdown",
   "metadata": {},
   "source": [
    "### MatMul\n",
    "1. @\n",
    "2. matmul\n"
   ]
  },
  {
   "cell_type": "code",
   "execution_count": 28,
   "metadata": {
    "cell_style": "split",
    "scrolled": true
   },
   "outputs": [
    {
     "name": "stdout",
     "output_type": "stream",
     "text": [
      "tf.Tensor(\n",
      "[[0.7213653  1.0957313  0.71883625]\n",
      " [1.2929616  1.3000406  1.0615227 ]\n",
      " [1.2351133  1.4739505  1.2573469 ]], shape=(3, 3), dtype=float32)\n",
      "tf.Tensor(\n",
      "[[0.7213653  1.0957313  0.71883625]\n",
      " [1.2929616  1.3000406  1.0615227 ]\n",
      " [1.2351133  1.4739505  1.2573469 ]], shape=(3, 3), dtype=float32)\n",
      "(2, 256)\n"
     ]
    }
   ],
   "source": [
    "a = tf.random.uniform([3,4])\n",
    "b = tf.random.uniform([4,3])\n",
    "\n",
    "print(a@b)\n",
    "print(tf.matmul(a,b))\n",
    "\n",
    "# Example: image x [2, 784] -> [2, 256]\n",
    "# w: [in, out]\n",
    "# b: [out]\n",
    "\n",
    "x = tf.random.uniform([2,784])\n",
    "w = tf.random.uniform([784,256])\n",
    "b = tf.zeros([256])\n",
    "\n",
    "out = x@w + b\n",
    "print(out.shape)"
   ]
  },
  {
   "cell_type": "code",
   "execution_count": 29,
   "metadata": {
    "cell_style": "split"
   },
   "outputs": [
    {
     "name": "stdout",
     "output_type": "stream",
     "text": [
      "tensor([[1.3314, 0.8028, 1.6500],\n",
      "        [0.9878, 0.9880, 1.2405],\n",
      "        [1.1633, 0.9607, 1.3768]])\n",
      "tensor([[1.3314, 0.8028, 1.6500],\n",
      "        [0.9878, 0.9880, 1.2405],\n",
      "        [1.1633, 0.9607, 1.3768]])\n",
      "torch.Size([2, 256])\n"
     ]
    }
   ],
   "source": [
    "a = torch.rand(3,4)\n",
    "b = torch.rand(4,3)\n",
    "\n",
    "print(a@b)\n",
    "print(torch.matmul(a,b))\n",
    "\n",
    "# Example: image x [2, 784] -> [2, 256]\n",
    "# w: [out, in],  w.t() transpose \n",
    "# b: [out]\n",
    "\n",
    "x = torch.rand(2, 784)\n",
    "w = torch.rand(256, 784)\n",
    "b = torch.zeros(256)\n",
    "\n",
    "out = x@w.t() + b\n",
    "print(out.shape)"
   ]
  },
  {
   "cell_type": "markdown",
   "metadata": {},
   "source": [
    "#### Dim over 2\n",
    "\n",
    "Only MatMul the last two dimentions"
   ]
  },
  {
   "cell_type": "code",
   "execution_count": 40,
   "metadata": {
    "cell_style": "split"
   },
   "outputs": [
    {
     "name": "stdout",
     "output_type": "stream",
     "text": [
      "(2, 3, 28, 28)\n",
      "(2, 3, 28, 28)\n",
      "(2, 3, 28, 14)\n"
     ]
    }
   ],
   "source": [
    "a = tf.random.uniform([2,3,28,12])\n",
    "b = tf.random.uniform([2,3,12,28])\n",
    "\n",
    "print((a@b).shape)\n",
    "print(tf.matmul(a,b).shape)\n",
    "\n",
    "# automatic broadcasting\n",
    "# c [12, 14] -> [1,1,12,14] ->[2,3,12,14]\n",
    "c = tf.random.uniform([12,14])\n",
    "print((a@c).shape)"
   ]
  },
  {
   "cell_type": "code",
   "execution_count": 43,
   "metadata": {
    "cell_style": "split"
   },
   "outputs": [
    {
     "name": "stdout",
     "output_type": "stream",
     "text": [
      "torch.Size([2, 3, 28, 28])\n",
      "torch.Size([2, 3, 28, 28])\n",
      "torch.Size([2, 3, 28, 14])\n"
     ]
    }
   ],
   "source": [
    "a = torch.rand(2,3,28,12)\n",
    "b = torch.rand(2,3,12,28)\n",
    "\n",
    "print((a@b).shape)\n",
    "print(torch.matmul(a,b).shape)\n",
    "\n",
    "# automatic broadcasting\n",
    "# c [12, 14] -> [1,1,12,14] ->[2,3,12,14]\n",
    "c = torch.rand(12,14)\n",
    "print((a@c).shape)"
   ]
  },
  {
   "cell_type": "markdown",
   "metadata": {
    "cell_style": "center"
   },
   "source": [
    "### Power and log\n",
    "elemente-wise: pow sqll **"
   ]
  },
  {
   "cell_type": "code",
   "execution_count": 66,
   "metadata": {
    "cell_style": "split"
   },
   "outputs": [
    {
     "name": "stdout",
     "output_type": "stream",
     "text": [
      "tf.Tensor(\n",
      "[[81. 81. 81.]\n",
      " [81. 81. 81.]\n",
      " [81. 81. 81.]], shape=(3, 3), dtype=float32)\n",
      "tf.Tensor(\n",
      "[[81. 81. 81.]\n",
      " [81. 81. 81.]\n",
      " [81. 81. 81.]], shape=(3, 3), dtype=float32)\n",
      "tf.Tensor(\n",
      "[[3. 3. 3.]\n",
      " [3. 3. 3.]\n",
      " [3. 3. 3.]], shape=(3, 3), dtype=float32)\n",
      "tf.Tensor(\n",
      "[[2.9999998 2.9999998 2.9999998]\n",
      " [2.9999998 2.9999998 2.9999998]\n",
      " [2.9999998 2.9999998 3.       ]], shape=(3, 3), dtype=float32)\n",
      "tf.Tensor(\n",
      "[[2. 2. 2.]\n",
      " [2. 2. 2.]\n",
      " [2. 2. 2.]], shape=(3, 3), dtype=float32) tf.Tensor(\n",
      "[[7.389056 7.389056 7.389056]\n",
      " [7.389056 7.389056 7.389056]\n",
      " [7.389056 7.389056 7.389056]], shape=(3, 3), dtype=float32) tf.Tensor(\n",
      "[[2. 2. 2.]\n",
      " [2. 2. 2.]\n",
      " [2. 2. 2.]], shape=(3, 3), dtype=float32)\n"
     ]
    }
   ],
   "source": [
    "a = tf.fill([3,3],9.0)\n",
    "print(a**2)\n",
    "print(tf.pow(a, 2))\n",
    "print(a**0.5)\n",
    "print(tf.sqrt(a))\n",
    "\n",
    "b = tf.ones([3,3])*2\n",
    "c = tf.exp(b)\n",
    "d = tf.math.log(c)\n",
    "print(b, c, d)"
   ]
  },
  {
   "cell_type": "code",
   "execution_count": 65,
   "metadata": {
    "cell_style": "split"
   },
   "outputs": [
    {
     "name": "stdout",
     "output_type": "stream",
     "text": [
      "tensor([[81., 81., 81.],\n",
      "        [81., 81., 81.],\n",
      "        [81., 81., 81.]])\n",
      "tensor([[81., 81., 81.],\n",
      "        [81., 81., 81.],\n",
      "        [81., 81., 81.]])\n",
      "tensor([[3., 3., 3.],\n",
      "        [3., 3., 3.],\n",
      "        [3., 3., 3.]])\n",
      "tensor([[3., 3., 3.],\n",
      "        [3., 3., 3.],\n",
      "        [3., 3., 3.]])\n",
      "tensor([[2., 2., 2.],\n",
      "        [2., 2., 2.],\n",
      "        [2., 2., 2.]]) tensor([[7.3891, 7.3891, 7.3891],\n",
      "        [7.3891, 7.3891, 7.3891],\n",
      "        [7.3891, 7.3891, 7.3891]]) tensor([[2., 2., 2.],\n",
      "        [2., 2., 2.],\n",
      "        [2., 2., 2.]])\n"
     ]
    }
   ],
   "source": [
    "a = torch.full([3,3],9)\n",
    "print(a**2)\n",
    "print(torch.pow(a,2))\n",
    "print(a**0.5)\n",
    "print(torch.sqrt(a))\n",
    "\n",
    "b = torch.ones([3,3])*2\n",
    "c = torch.exp(b)\n",
    "d = torch.log(c)\n",
    "print(b, c, d)"
   ]
  },
  {
   "cell_type": "markdown",
   "metadata": {
    "cell_style": "center"
   },
   "source": [
    "### Approximation\n",
    "\n",
    "* floor() ceil()\n",
    "* round()\n",
    "* trunc() frac()"
   ]
  },
  {
   "cell_type": "code",
   "execution_count": 80,
   "metadata": {},
   "outputs": [],
   "source": [
    "import numpy as np"
   ]
  },
  {
   "cell_type": "code",
   "execution_count": 87,
   "metadata": {
    "cell_style": "split"
   },
   "outputs": [
    {
     "name": "stdout",
     "output_type": "stream",
     "text": [
      "tf.Tensor(3.0, shape=(), dtype=float32)\n",
      "tf.Tensor(4.0, shape=(), dtype=float32)\n",
      "tf.Tensor(3.0, shape=(), dtype=float32)\n",
      "3.0\n",
      "0.1400001\n"
     ]
    }
   ],
   "source": [
    "a = tf.constant(3.14)\n",
    "print(tf.floor(a))\n",
    "print(tf.math.ceil(a))\n",
    "print(tf.math.round(a))\n",
    "print(np.trunc(a.numpy()))\n",
    "print(np.modf(a.numpy())[0])"
   ]
  },
  {
   "cell_type": "code",
   "execution_count": 71,
   "metadata": {
    "cell_style": "split",
    "scrolled": true
   },
   "outputs": [
    {
     "name": "stdout",
     "output_type": "stream",
     "text": [
      "tensor(3.)\n",
      "tensor(4.)\n",
      "tensor(3.)\n",
      "tensor(3.)\n",
      "tensor(0.1400)\n"
     ]
    }
   ],
   "source": [
    "a = torch.tensor(3.14)\n",
    "print(a.floor())\n",
    "print(a.ceil())\n",
    "print(a.round())\n",
    "print(a.trunc())\n",
    "print(a.frac())"
   ]
  },
  {
   "cell_type": "markdown",
   "metadata": {},
   "source": [
    "### Statistics\n",
    "* norm\n",
    "* mean sum\n",
    "* prod\n",
    "* max, min, argmin, argmax ▪ kthvalue, topk"
   ]
  },
  {
   "cell_type": "code",
   "execution_count": null,
   "metadata": {
    "cell_style": "split"
   },
   "outputs": [],
   "source": []
  },
  {
   "cell_type": "code",
   "execution_count": 111,
   "metadata": {
    "cell_style": "split"
   },
   "outputs": [
    {
     "name": "stdout",
     "output_type": "stream",
     "text": [
      "tensor([[1., 1., 1., 1.],\n",
      "        [1., 1., 1., 1.]])\n",
      "tensor([[[1., 1.],\n",
      "         [1., 1.]],\n",
      "\n",
      "        [[1., 1.],\n",
      "         [1., 1.]]])\n",
      "tensor(2.8284)\n",
      "tensor(2.8284)\n",
      "tensor([1.4142, 1.4142, 1.4142, 1.4142])\n",
      "tensor([2., 2.])\n",
      "torch.Size([2, 2])\n",
      "torch.Size([2, 2])\n",
      "torch.Size([2, 2])\n"
     ]
    }
   ],
   "source": [
    "a = torch.full([8], 1)\n",
    "b = a.reshape([2,4])\n",
    "c = a.reshape([2,2,2])\n",
    "\n",
    "print(b)\n",
    "print(c)\n",
    "\n",
    "# torch.norm()\n",
    "print(b.norm(2))\n",
    "print(c.norm(2))\n",
    "\n",
    "print(b.norm(2, dim = 0))\n",
    "print(b.norm(2, dim = 1))\n",
    "\n",
    "print(c.norm(2, dim = 0).shape)\n",
    "print(c.norm(2, dim = 1).shape)\n",
    "print(c.norm(2, dim = 2).shape)"
   ]
  },
  {
   "cell_type": "markdown",
   "metadata": {},
   "source": [
    "### Clamp\n"
   ]
  },
  {
   "cell_type": "code",
   "execution_count": 98,
   "metadata": {
    "cell_style": "split"
   },
   "outputs": [
    {
     "name": "stdout",
     "output_type": "stream",
     "text": [
      "tf.Tensor(\n",
      "[[10.652033   5.9660015  2.4843903]\n",
      " [11.617971   3.1870842  5.1878815]], shape=(2, 3), dtype=float32)\n",
      "tf.Tensor(11.617971, shape=(), dtype=float32)\n",
      "tf.Tensor(2.4843903, shape=(), dtype=float32)\n",
      "tf.Tensor(\n",
      "[[10.         5.9660015  5.       ]\n",
      " [10.         5.         5.1878815]], shape=(2, 3), dtype=float32)\n"
     ]
    }
   ],
   "source": [
    "grad = tf.random.uniform([2,3], minval=15)\n",
    "\n",
    "print(grad)\n",
    "\n",
    "print(tf.reduce_max(grad))\n",
    "print(tf.reduce_min(grad))\n",
    "\n",
    "print(tf.clip_by_value(grad, 5,10))\n"
   ]
  },
  {
   "cell_type": "code",
   "execution_count": 89,
   "metadata": {
    "cell_style": "split",
    "scrolled": true
   },
   "outputs": [
    {
     "name": "stdout",
     "output_type": "stream",
     "text": [
      "tensor([[12.8346,  9.5469, 14.3791],\n",
      "        [12.7299,  2.6548,  5.8642]])\n",
      "tensor(14.3791)\n",
      "tensor(2.6548)\n",
      "tensor([[10.0000,  9.5469, 10.0000],\n",
      "        [10.0000,  5.0000,  5.8642]])\n",
      "tensor([[10.0000,  9.5469, 10.0000],\n",
      "        [10.0000,  5.0000,  5.8642]])\n"
     ]
    }
   ],
   "source": [
    "grad = torch.rand(2,3)*15\n",
    "\n",
    "print(grad)\n",
    "\n",
    "print(grad.max())\n",
    "print(grad.min())\n",
    "\n",
    "print(torch.clamp(grad, min=5, max=10))\n",
    "print(grad.clamp(5,10))"
   ]
  },
  {
   "cell_type": "markdown",
   "metadata": {},
   "source": [
    "### Broadcasting\n",
    "\n",
    "Manully broadcast with `tf.broadcast_to` / `y.expand(*size)`.\n",
    "\n",
    "Automatic broadcast in calculation.\n"
   ]
  },
  {
   "cell_type": "code",
   "execution_count": 17,
   "metadata": {
    "cell_style": "split"
   },
   "outputs": [
    {
     "name": "stdout",
     "output_type": "stream",
     "text": [
      "(4, 28, 28, 3)\n",
      "(4, 28, 28, 3)\n"
     ]
    }
   ],
   "source": [
    "x = tf.random.uniform([4,28,28,3])\n",
    "y = tf.random.uniform([1,28,1,1])\n",
    "\n",
    "print((tf.broadcast_to(y,[4,28,28,3])).shape)\n",
    "\n",
    "print((x+y).shape)"
   ]
  },
  {
   "cell_type": "code",
   "execution_count": 18,
   "metadata": {
    "cell_style": "split"
   },
   "outputs": [
    {
     "name": "stdout",
     "output_type": "stream",
     "text": [
      "torch.Size([4, 3, 28, 28])\n",
      "torch.Size([4, 3, 28, 28])\n"
     ]
    }
   ],
   "source": [
    "x = torch.rand([4,3,28,28])\n",
    "y = torch.rand([1,1,28,1])\n",
    "\n",
    "print(y.expand(4,3,28,28).shape)\n",
    "\n",
    "print((x+y).shape)"
   ]
  },
  {
   "cell_type": "code",
   "execution_count": 19,
   "metadata": {},
   "outputs": [
    {
     "name": "stdout",
     "output_type": "stream",
     "text": [
      "(4, 28, 28, 3)\n"
     ]
    }
   ],
   "source": [
    "x = tf.random.uniform([4,28,28,3])\n",
    "y = tf.random.uniform([4,28,1,1])\n",
    "\n",
    "print((x + y).shape)"
   ]
  },
  {
   "cell_type": "code",
   "execution_count": null,
   "metadata": {},
   "outputs": [],
   "source": []
  }
 ],
 "metadata": {
  "kernelspec": {
   "display_name": "Python 3.7.5 64-bit ('tf2': conda)",
   "language": "python",
   "name": "python37564bittf2conda8449d89771174c2f89eb8324501cb93e"
  },
  "language_info": {
   "codemirror_mode": {
    "name": "ipython",
    "version": 3
   },
   "file_extension": ".py",
   "mimetype": "text/x-python",
   "name": "python",
   "nbconvert_exporter": "python",
   "pygments_lexer": "ipython3",
   "version": "3.7.5"
  }
 },
 "nbformat": 4,
 "nbformat_minor": 2
}
